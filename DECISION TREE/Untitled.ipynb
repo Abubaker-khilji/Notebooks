{
 "cells": [
  {
   "cell_type": "code",
   "execution_count": 3,
   "id": "1688609f-0f8b-48cd-b96a-95c33e54a6ee",
   "metadata": {},
   "outputs": [],
   "source": [
    "import graphviz.backend as be"
   ]
  },
  {
   "cell_type": "code",
   "execution_count": 17,
   "id": "cf83c626-1d8e-4a78-bec6-3e0649dd9bb2",
   "metadata": {},
   "outputs": [],
   "source": [
    "from sklearn.datasets import *\n",
    "from dtreeviz.trees import *\n",
    "from IPython.display import Image , display_svg, SVG"
   ]
  },
  {
   "cell_type": "code",
   "execution_count": null,
   "id": "1b65691f-c869-4b9f-9b4e-0d555a5bedf2",
   "metadata": {},
   "outputs": [],
   "source": []
  }
 ],
 "metadata": {
  "kernelspec": {
   "display_name": "Python 3 (ipykernel)",
   "language": "python",
   "name": "python3"
  },
  "language_info": {
   "codemirror_mode": {
    "name": "ipython",
    "version": 3
   },
   "file_extension": ".py",
   "mimetype": "text/x-python",
   "name": "python",
   "nbconvert_exporter": "python",
   "pygments_lexer": "ipython3",
   "version": "3.12.7"
  }
 },
 "nbformat": 4,
 "nbformat_minor": 5
}
